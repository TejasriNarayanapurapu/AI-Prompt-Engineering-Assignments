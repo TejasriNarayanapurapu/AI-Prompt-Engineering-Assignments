{
  "nbformat": 4,
  "nbformat_minor": 0,
  "metadata": {
    "colab": {
      "provenance": []
    },
    "kernelspec": {
      "name": "python3",
      "display_name": "Python 3"
    },
    "language_info": {
      "name": "python"
    }
  },
  "cells": [
    {
      "cell_type": "code",
      "execution_count": null,
      "metadata": {
        "colab": {
          "base_uri": "https://localhost:8080/"
        },
        "id": "CEw3iv-mdT3k",
        "outputId": "b3a1b091-6a3c-4434-ebe4-dc1fd9868b8e"
      },
      "outputs": [
        {
          "output_type": "stream",
          "name": "stdout",
          "text": [
            "\n",
            "=== Basic Calculator ===\n",
            "1. Add\n",
            "2. Subtract\n",
            "3. Multiply\n",
            "4. Divide\n",
            "5. Power\n",
            "6. Exit\n",
            "Choose an operation (1-6): 1\n",
            "Enter first number: 4\n",
            "Enter second number: 5\n",
            "Result: 9.0\n",
            "\n",
            "=== Basic Calculator ===\n",
            "1. Add\n",
            "2. Subtract\n",
            "3. Multiply\n",
            "4. Divide\n",
            "5. Power\n",
            "6. Exit\n",
            "Choose an operation (1-6): 2\n",
            "Enter first number: 6\n",
            "Enter second number: 1\n",
            "Result: 5.0\n",
            "\n",
            "=== Basic Calculator ===\n",
            "1. Add\n",
            "2. Subtract\n",
            "3. Multiply\n",
            "4. Divide\n",
            "5. Power\n",
            "6. Exit\n"
          ]
        }
      ],
      "source": [
        "def add(a, b):\n",
        "    return a + b\n",
        "\n",
        "def subtract(a, b):\n",
        "    return a - b\n",
        "\n",
        "def multiply(a, b):\n",
        "    return a * b\n",
        "\n",
        "def divide(a, b):\n",
        "    try:\n",
        "        return a / b\n",
        "    except ZeroDivisionError:\n",
        "        return \"Error: Division by zero is not allowed.\"\n",
        "\n",
        "def power(a, b):\n",
        "    return a ** b\n",
        "\n",
        "def get_number(prompt):\n",
        "    while True:\n",
        "        try:\n",
        "            return float(input(prompt))\n",
        "        except ValueError:\n",
        "            print(\"Invalid input! Please enter a valid number.\")\n",
        "\n",
        "def main():\n",
        "    while True:\n",
        "        print(\"\\n=== Basic Calculator ===\")\n",
        "        print(\"1. Add\")\n",
        "        print(\"2. Subtract\")\n",
        "        print(\"3. Multiply\")\n",
        "        print(\"4. Divide\")\n",
        "        print(\"5. Power\")\n",
        "        print(\"6. Exit\")\n",
        "\n",
        "        choice = input(\"Choose an operation (1-6): \")\n",
        "\n",
        "        if choice == '6':\n",
        "            print(\"Exiting the calculator. Goodbye!\")\n",
        "            break\n",
        "\n",
        "        if choice in ['1', '2', '3', '4', '5']:\n",
        "            num1 = get_number(\"Enter first number: \")\n",
        "            num2 = get_number(\"Enter second number: \")\n",
        "\n",
        "            if choice == '1':\n",
        "                result = add(num1, num2)\n",
        "            elif choice == '2':\n",
        "                result = subtract(num1, num2)\n",
        "            elif choice == '3':\n",
        "                result = multiply(num1, num2)\n",
        "            elif choice == '4':\n",
        "                result = divide(num1, num2)\n",
        "            elif choice == '5':\n",
        "                result = power(num1, num2)\n",
        "\n",
        "            print(\"Result:\", result)\n",
        "        else:\n",
        "            print(\"Invalid choice! Please select a valid option.\")\n",
        "\n",
        "if __name__ == \"__main__\":\n",
        "    main()\n"
      ]
    }
  ]
}