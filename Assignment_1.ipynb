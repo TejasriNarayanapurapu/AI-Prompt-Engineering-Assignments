{
  "nbformat": 4,
  "nbformat_minor": 0,
  "metadata": {
    "colab": {
      "provenance": []
    },
    "kernelspec": {
      "name": "python3",
      "display_name": "Python 3"
    },
    "language_info": {
      "name": "python"
    }
  },
  "cells": [
    {
      "cell_type": "code",
      "execution_count": 1,
      "metadata": {
        "colab": {
          "base_uri": "https://localhost:8080/"
        },
        "id": "_plPmmDFErMR",
        "outputId": "009d540b-8a50-4a47-83b8-4a045d12e81f"
      },
      "outputs": [
        {
          "output_type": "stream",
          "name": "stdout",
          "text": [
            "37.78\n",
            "100.0\n"
          ]
        }
      ],
      "source": [
        "def convert_temperature(value, unit):\n",
        "    if unit == 'F':\n",
        "        # Convert Fahrenheit to Celsius\n",
        "        celsius = (value - 32) * 5 / 9\n",
        "        return round(celsius, 2)\n",
        "    elif unit == 'C':\n",
        "        # Convert Celsius to Fahrenheit\n",
        "        fahrenheit = (value * 9 / 5) + 32\n",
        "        return round(fahrenheit, 2)\n",
        "    else:\n",
        "        return \"Invalid unit. Use 'F' for Fahrenheit or 'C' for Celsius.\"\n",
        "\n",
        "# Example usage\n",
        "print(convert_temperature(100, 'F'))  # Output: 37.78\n",
        "print(convert_temperature(37.78, 'C'))  # Output: 100.0\n"
      ]
    }
  ]
}